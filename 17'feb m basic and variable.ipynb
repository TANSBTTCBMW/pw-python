{
 "cells": [
  {
   "cell_type": "code",
   "execution_count": 17,
   "id": "9776c4d2-ccd2-4d47-98e9-dc3895f959d2",
   "metadata": {},
   "outputs": [],
   "source": [
    "s1=\"pwskills\""
   ]
  },
  {
   "cell_type": "code",
   "execution_count": 18,
   "id": "08c05d4a-2397-4731-9d16-99b1023d4c82",
   "metadata": {},
   "outputs": [
    {
     "data": {
      "text/plain": [
       "'w'"
      ]
     },
     "execution_count": 18,
     "metadata": {},
     "output_type": "execute_result"
    }
   ],
   "source": [
    "s1[1]"
   ]
  },
  {
   "cell_type": "code",
   "execution_count": 19,
   "id": "d7315914-b4a8-48af-9df4-46cc1dc5d3cc",
   "metadata": {},
   "outputs": [
    {
     "data": {
      "text/plain": [
       "'pws'"
      ]
     },
     "execution_count": 19,
     "metadata": {},
     "output_type": "execute_result"
    }
   ],
   "source": [
    "s1[0:3]"
   ]
  },
  {
   "cell_type": "code",
   "execution_count": 20,
   "id": "e8d4a66b-a4d2-47a5-ad4f-7c399d4842fb",
   "metadata": {},
   "outputs": [
    {
     "data": {
      "text/plain": [
       "'wskill'"
      ]
     },
     "execution_count": 20,
     "metadata": {},
     "output_type": "execute_result"
    }
   ],
   "source": [
    "s1[1:7:1]  #1 step skip at once...default jump(step size) is 1 ahead."
   ]
  },
  {
   "cell_type": "code",
   "execution_count": 21,
   "id": "f516acf6-78e5-480e-b4d5-9ff8698aea32",
   "metadata": {},
   "outputs": [
    {
     "data": {
      "text/plain": [
       "'wkl'"
      ]
     },
     "execution_count": 21,
     "metadata": {},
     "output_type": "execute_result"
    }
   ],
   "source": [
    "s1[1:7:2]  #2 step skip at once...print alternate letter."
   ]
  },
  {
   "cell_type": "code",
   "execution_count": 26,
   "id": "9b2f629a-b410-4796-bf71-7c48fd3923e8",
   "metadata": {},
   "outputs": [
    {
     "data": {
      "text/plain": [
       "''"
      ]
     },
     "execution_count": 26,
     "metadata": {},
     "output_type": "execute_result"
    }
   ],
   "source": [
    "s1[7:3:-1] #to go backward and access data, we need to change default jump from 1 to -1, data going towards 7 to 3 \n",
    "                  #but our jump is going from 7+1,7+1+1, so we get nothing"
   ]
  },
  {
   "cell_type": "code",
   "execution_count": 30,
   "id": "8bc9fbee-de28-4905-83f1-5f5e82df1afc",
   "metadata": {},
   "outputs": [
    {
     "data": {
      "text/plain": [
       "''"
      ]
     },
     "execution_count": 30,
     "metadata": {},
     "output_type": "execute_result"
    }
   ],
   "source": [
    "'''we are trying to go from -1 to -5, it will go like, -1,0,1,2,3,4,5....'''\n",
    "s1[-1:-5]"
   ]
  },
  {
   "cell_type": "code",
   "execution_count": 39,
   "id": "9300d6ba-74c6-4743-b534-054f80852dcb",
   "metadata": {},
   "outputs": [
    {
     "data": {
      "text/plain": [
       "'slicing stops just before this index, so to print last -8 write -9'"
      ]
     },
     "execution_count": 39,
     "metadata": {},
     "output_type": "execute_result"
    }
   ],
   "source": [
    "s1[-1:-8:-1]      \n",
    "#multiple line comment must start from seperate line\n",
    "'''slicing stops just before this index, so to print last -8 write -9'''"
   ]
  },
  {
   "cell_type": "code",
   "execution_count": 34,
   "id": "4696d957-f233-4bee-b9f5-0d631d187fd7",
   "metadata": {},
   "outputs": [
    {
     "data": {
      "text/plain": [
       "'sllikswp'"
      ]
     },
     "execution_count": 34,
     "metadata": {},
     "output_type": "execute_result"
    }
   ],
   "source": [
    "s1[::-1]"
   ]
  },
  {
   "cell_type": "code",
   "execution_count": 40,
   "id": "d0f13b2c-8ae3-4011-bc97-7eec221f4bd1",
   "metadata": {},
   "outputs": [
    {
     "data": {
      "text/plain": [
       "'sllikswp'"
      ]
     },
     "execution_count": 40,
     "metadata": {},
     "output_type": "execute_result"
    }
   ],
   "source": [
    "s1[7::-1]"
   ]
  },
  {
   "cell_type": "code",
   "execution_count": 45,
   "id": "7f21ba54-2e54-45f4-8cc2-a7231ba32dfc",
   "metadata": {},
   "outputs": [],
   "source": [
    "#to update value in string,does not support item assignment\n",
    "#s1[0]='x'    //COZ STRING IS IMMUTABLE.\n",
    "#SOLUTION:\n",
    "#MUTABILITY: if able to cahnge a specific index,that data type is called immutable.\n",
    "#IMMUTIBILITY: if unable to cahnge a specific index,that data type is called immutable.  eg.string\n",
    "#            "
   ]
  },
  {
   "cell_type": "code",
   "execution_count": null,
   "id": "5b531036-15b9-46c9-9cb8-a6c9440cee5e",
   "metadata": {},
   "outputs": [],
   "source": []
  }
 ],
 "metadata": {
  "kernelspec": {
   "display_name": "Python 3 (ipykernel)",
   "language": "python",
   "name": "python3"
  },
  "language_info": {
   "codemirror_mode": {
    "name": "ipython",
    "version": 3
   },
   "file_extension": ".py",
   "mimetype": "text/x-python",
   "name": "python",
   "nbconvert_exporter": "python",
   "pygments_lexer": "ipython3",
   "version": "3.10.8"
  }
 },
 "nbformat": 4,
 "nbformat_minor": 5
}
